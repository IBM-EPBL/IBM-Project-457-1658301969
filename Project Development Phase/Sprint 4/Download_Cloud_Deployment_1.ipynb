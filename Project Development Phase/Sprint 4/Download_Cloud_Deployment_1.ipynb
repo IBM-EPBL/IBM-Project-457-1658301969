{
 "cells": [
  {
   "cell_type": "code",
   "execution_count": 1,
   "id": "5681fbe8",
   "metadata": {},
   "outputs": [
    {
     "data": {
      "text/plain": [
       "<ibm_watson_machine_learning.client.APIClient at 0x27211f06700>"
      ]
     },
     "execution_count": 1,
     "metadata": {},
     "output_type": "execute_result"
    }
   ],
   "source": [
    "from ibm_watson_machine_learning import APIClient\n",
    "wml_credentials={\n",
    "    \"url\":\"https://us-south.ml.cloud.ibm.com\",\n",
    "    \"apikey\":\"lSCpOt-YyJjqz1UsS4Tjycg5_dKbTt3ATzIdAQN26W6u\"\n",
    "}\n",
    "client=APIClient(wml_credentials)\n",
    "client"
   ]
  },
  {
   "cell_type": "code",
   "execution_count": 2,
   "id": "a2b4f1fb",
   "metadata": {},
   "outputs": [],
   "source": [
    "def guid_space_name(client,ASL_Communication_1):\n",
    "    space=client.spaces.get_details()\n",
    "    return(next(item for item in space['resources'] if item['entity']['name']==ASL_Communication_1)['metadata']['id'])"
   ]
  },
  {
   "cell_type": "code",
   "execution_count": 3,
   "id": "9763dd6b",
   "metadata": {},
   "outputs": [
    {
     "name": "stdout",
     "output_type": "stream",
     "text": [
      "Space UID a50d640b-6d88-45af-acfd-5e46685cdd74\n"
     ]
    }
   ],
   "source": [
    "space_uid=guid_space_name(client,'ASL_Communication_1')\n",
    "print(\"Space UID \"+space_uid)"
   ]
  },
  {
   "cell_type": "code",
   "execution_count": 4,
   "id": "75389c01",
   "metadata": {},
   "outputs": [
    {
     "data": {
      "text/plain": [
       "'SUCCESS'"
      ]
     },
     "execution_count": 4,
     "metadata": {},
     "output_type": "execute_result"
    }
   ],
   "source": [
    "client.set.default_space(space_uid)"
   ]
  },
  {
   "cell_type": "code",
   "execution_count": 5,
   "id": "26a64385",
   "metadata": {},
   "outputs": [
    {
     "name": "stdout",
     "output_type": "stream",
     "text": [
      "Successfully saved model content to file: 'ASL_Model_1.tar.gz'\n"
     ]
    },
    {
     "data": {
      "text/plain": [
       "'c:\\\\Users\\\\manok\\\\Documents\\\\Sem_7\\\\HX5001-HX6001\\\\Project Development Phase\\\\Project Development Phase\\\\Sprint 4/ASL_Model_1.tar.gz'"
      ]
     },
     "execution_count": 5,
     "metadata": {},
     "output_type": "execute_result"
    }
   ],
   "source": [
    "client.repository.download(\"ff986be2-ce8c-4ec7-a0d2-ccca2a01d6ba\", 'ASL_Model_1.tar.gz')"
   ]
  },
  {
   "cell_type": "code",
   "execution_count": 6,
   "id": "aafdb346",
   "metadata": {},
   "outputs": [],
   "source": [
    "import tarfile\n",
    "file = tarfile.open('ASL_Model_1.tar.gz')\n",
    "file.extractall('./')\n",
    "file.close()"
   ]
  }
 ],
 "metadata": {
  "kernelspec": {
   "display_name": "base",
   "language": "python",
   "name": "python3"
  },
  "language_info": {
   "codemirror_mode": {
    "name": "ipython",
    "version": 3
   },
   "file_extension": ".py",
   "mimetype": "text/x-python",
   "name": "python",
   "nbconvert_exporter": "python",
   "pygments_lexer": "ipython3",
   "version": "3.9.12 (main, Apr  4 2022, 05:22:27) [MSC v.1916 64 bit (AMD64)]"
  },
  "vscode": {
   "interpreter": {
    "hash": "ad2bdc8ecc057115af97d19610ffacc2b4e99fae6737bb82f5d7fb13d2f2c186"
   }
  }
 },
 "nbformat": 4,
 "nbformat_minor": 5
}
