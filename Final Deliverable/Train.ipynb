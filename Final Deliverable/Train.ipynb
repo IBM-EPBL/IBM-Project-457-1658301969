{
 "cells": [
  {
   "cell_type": "markdown",
   "id": "80541634",
   "metadata": {},
   "source": [
    "# Real-Time Communication System Powered by AI for Specially Abled\n",
    "## CNN Model for Image Prediction\n",
    "### Team ID: PNT2022TMID35896"
   ]
  },
  {
   "cell_type": "markdown",
   "id": "75d8f784",
   "metadata": {},
   "source": [
    "#### 1. Importing Necessary Packages"
   ]
  },
  {
   "cell_type": "code",
   "execution_count": 1,
   "id": "1586b0bf",
   "metadata": {},
   "outputs": [],
   "source": [
    "import pandas as pd\n",
    "import numpy as np\n",
    "import matplotlib.pyplot as plt\n",
    "import seaborn as sns\n",
    "import tensorflow as tf\n",
    "import cv2\n",
    "\n",
    "import splitfolders\n",
    "import os\n",
    "\n",
    "import string\n",
    "\n",
    "import random\n",
    "\n",
    "import nltk\n",
    "\n",
    "from tensorflow.keras.preprocessing import image, sequence\n",
    "from tensorflow.keras.preprocessing.image import ImageDataGenerator, load_img, img_to_array\n",
    "\n",
    "from tensorflow.keras.utils import to_categorical\n",
    "\n",
    "from tensorflow.keras import Model\n",
    "from tensorflow.keras.models import Sequential, load_model\n",
    "\n",
    "from tensorflow.keras import layers\n",
    "from tensorflow.keras.layers import Input, Dense, Convolution2D, MaxPooling2D, Flatten,Dropout\n",
    "\n",
    "from tensorflow.keras.applications.resnet50 import preprocess_input, decode_predictions\n",
    "\n",
    "from sklearn.compose import ColumnTransformer\n",
    "from sklearn.preprocessing import OneHotEncoder, StandardScaler, LabelEncoder\n",
    "from sklearn.model_selection import train_test_split\n",
    "from sklearn.pipeline import Pipeline\n",
    "from skimage.transform import resize\n",
    "from sklearn.metrics import classification_report, log_loss, accuracy_score"
   ]
  },
  {
   "cell_type": "markdown",
   "id": "c12c6543",
   "metadata": {},
   "source": [
    "#### 2. Load the DataSet"
   ]
  },
  {
   "cell_type": "code",
   "execution_count": 2,
   "id": "9c62c733",
   "metadata": {},
   "outputs": [],
   "source": [
    "DataSet = r'''C:\\Users\\manok\\Documents\\Sem_7\\HX5001-HX6001\\Project Development Phase\\Main Project 2\\Dataset\\Gesture Image Pre-Processed Data'''"
   ]
  },
  {
   "cell_type": "code",
   "execution_count": 3,
   "id": "4001ecd9",
   "metadata": {},
   "outputs": [],
   "source": [
    "# splitfolders.ratio(DataSet,output='''C:\\\\Users\\\\manok\\\\Documents\\\\Sem_7\\\\HX5001-HX6001\\\\Project Development Phase\\\\Main Project 2\\\\Dataset\\\\Split''',ratio=(.8,0,.2),group_prefix=None)"
   ]
  },
  {
   "cell_type": "markdown",
   "id": "8129dca5",
   "metadata": {},
   "source": [
    "#### 3. Image Preprocessing\n",
    "##### 3.1 Import ImageDataGenerator Library "
   ]
  },
  {
   "cell_type": "code",
   "execution_count": 4,
   "id": "54a55a68",
   "metadata": {},
   "outputs": [],
   "source": [
    "train_datagen = ImageDataGenerator(rescale=1./255, shear_range=0.2, zoom_range=0.2, horizontal_flip=True, vertical_flip=False)\n",
    "test_datagen = ImageDataGenerator(rescale=1./255)"
   ]
  },
  {
   "cell_type": "markdown",
   "id": "15889424",
   "metadata": {},
   "source": [
    "##### 3.2. Apply ImageDataGenerator functionality"
   ]
  },
  {
   "cell_type": "code",
   "execution_count": 5,
   "id": "e7ea26df",
   "metadata": {},
   "outputs": [
    {
     "name": "stdout",
     "output_type": "stream",
     "text": [
      "Found 44400 images belonging to 37 classes.\n"
     ]
    }
   ],
   "source": [
    "x_train = train_datagen.flow_from_directory('Dataset/Split/train', target_size=(50,50),\n",
    "                                            class_mode='categorical', batch_size=300, color_mode=\"grayscale\")"
   ]
  },
  {
   "cell_type": "code",
   "execution_count": 6,
   "id": "c87774e3",
   "metadata": {},
   "outputs": [
    {
     "name": "stdout",
     "output_type": "stream",
     "text": [
      "Found 11100 images belonging to 37 classes.\n"
     ]
    }
   ],
   "source": [
    "x_test = test_datagen.flow_from_directory('Dataset/Split/test', target_size=(50,50),\n",
    "                                            class_mode='categorical', batch_size=300, color_mode=\"grayscale\")"
   ]
  },
  {
   "cell_type": "code",
   "execution_count": 7,
   "id": "df47d1d2",
   "metadata": {},
   "outputs": [
    {
     "data": {
      "text/plain": [
       "{'0': 0,\n",
       " '1': 1,\n",
       " '2': 2,\n",
       " '3': 3,\n",
       " '4': 4,\n",
       " '5': 5,\n",
       " '6': 6,\n",
       " '7': 7,\n",
       " '8': 8,\n",
       " '9': 9,\n",
       " 'A': 10,\n",
       " 'B': 11,\n",
       " 'C': 12,\n",
       " 'D': 13,\n",
       " 'E': 14,\n",
       " 'F': 15,\n",
       " 'G': 16,\n",
       " 'H': 17,\n",
       " 'I': 18,\n",
       " 'J': 19,\n",
       " 'K': 20,\n",
       " 'L': 21,\n",
       " 'M': 22,\n",
       " 'N': 23,\n",
       " 'O': 24,\n",
       " 'P': 25,\n",
       " 'Q': 26,\n",
       " 'R': 27,\n",
       " 'S': 28,\n",
       " 'T': 29,\n",
       " 'U': 30,\n",
       " 'V': 31,\n",
       " 'W': 32,\n",
       " 'X': 33,\n",
       " 'Y': 34,\n",
       " 'Z': 35,\n",
       " '_': 36}"
      ]
     },
     "execution_count": 7,
     "metadata": {},
     "output_type": "execute_result"
    }
   ],
   "source": [
    "x_train.class_indices"
   ]
  },
  {
   "cell_type": "markdown",
   "id": "2426abf3",
   "metadata": {},
   "source": [
    "#### 4. Model Building\n",
    "##### 4.1 Initialize the model"
   ]
  },
  {
   "cell_type": "code",
   "execution_count": 8,
   "id": "74d007f6",
   "metadata": {},
   "outputs": [],
   "source": [
    "model=Sequential()"
   ]
  },
  {
   "cell_type": "markdown",
   "id": "bfffd969",
   "metadata": {},
   "source": [
    "##### 4.2 Add the Convolution Layer"
   ]
  },
  {
   "cell_type": "code",
   "execution_count": 9,
   "id": "a4b0c6ca",
   "metadata": {},
   "outputs": [],
   "source": [
    "model.add(Convolution2D(filters=32, kernel_size=(3,3), input_shape=(50,50,1), activation='relu'))"
   ]
  },
  {
   "cell_type": "markdown",
   "id": "608714b2",
   "metadata": {},
   "source": [
    "##### 4.3 Add the Pooling Layer"
   ]
  },
  {
   "cell_type": "code",
   "execution_count": 10,
   "id": "f8fab370",
   "metadata": {},
   "outputs": [],
   "source": [
    "model.add(MaxPooling2D(pool_size=(2,2)))"
   ]
  },
  {
   "cell_type": "code",
   "execution_count": 11,
   "id": "a57b95b2",
   "metadata": {},
   "outputs": [],
   "source": [
    "model.add(Dropout(0.25))"
   ]
  },
  {
   "cell_type": "markdown",
   "id": "b7c16ae5",
   "metadata": {},
   "source": [
    "##### 4.2 Add the Convolution Layer"
   ]
  },
  {
   "cell_type": "code",
   "execution_count": 12,
   "id": "1ad027b1",
   "metadata": {},
   "outputs": [],
   "source": [
    "model.add(Convolution2D(64,(3,3), activation='relu'))"
   ]
  },
  {
   "cell_type": "markdown",
   "id": "2a99d3bc",
   "metadata": {},
   "source": [
    "##### 4.3 Add the Pooling Layer"
   ]
  },
  {
   "cell_type": "code",
   "execution_count": 13,
   "id": "17fd2ae0",
   "metadata": {},
   "outputs": [],
   "source": [
    "model.add(MaxPooling2D(pool_size=(2,2)))"
   ]
  },
  {
   "cell_type": "code",
   "execution_count": 14,
   "id": "aa2835e1",
   "metadata": {},
   "outputs": [],
   "source": [
    "model.add(Dropout(0.25))"
   ]
  },
  {
   "cell_type": "markdown",
   "id": "7a479dae",
   "metadata": {},
   "source": [
    "##### 4.2 Add the Convolution Layer"
   ]
  },
  {
   "cell_type": "code",
   "execution_count": 15,
   "id": "1a1777dc",
   "metadata": {},
   "outputs": [],
   "source": [
    "model.add(Convolution2D(128,(3,3), activation='relu'))"
   ]
  },
  {
   "cell_type": "markdown",
   "id": "ecad1462",
   "metadata": {},
   "source": [
    "##### 4.3 Add the Pooling Layer"
   ]
  },
  {
   "cell_type": "code",
   "execution_count": 16,
   "id": "558203c6",
   "metadata": {},
   "outputs": [],
   "source": [
    "model.add(MaxPooling2D(pool_size=(2,2)))"
   ]
  },
  {
   "cell_type": "code",
   "execution_count": 17,
   "id": "20249b94",
   "metadata": {},
   "outputs": [],
   "source": [
    "model.add(Dropout(0.25))"
   ]
  },
  {
   "cell_type": "markdown",
   "id": "bd70b09e",
   "metadata": {},
   "source": [
    "##### 4.2 Add the Convolution Layer"
   ]
  },
  {
   "cell_type": "code",
   "execution_count": 18,
   "id": "9e6b6b5e",
   "metadata": {},
   "outputs": [],
   "source": [
    "model.add(Convolution2D(256,(3,3), activation='relu'))"
   ]
  },
  {
   "cell_type": "markdown",
   "id": "75c4a1d7",
   "metadata": {},
   "source": [
    "##### 4.3 Add the Pooling Layer"
   ]
  },
  {
   "cell_type": "code",
   "execution_count": 19,
   "id": "f792aee2",
   "metadata": {},
   "outputs": [],
   "source": [
    "model.add(MaxPooling2D(pool_size=(2,2)))"
   ]
  },
  {
   "cell_type": "code",
   "execution_count": 20,
   "id": "77f1f767",
   "metadata": {},
   "outputs": [],
   "source": [
    "model.add(Dropout(0.25))"
   ]
  },
  {
   "cell_type": "markdown",
   "id": "c010e828",
   "metadata": {},
   "source": [
    "##### 4.4 Add the Flatten Layer"
   ]
  },
  {
   "cell_type": "code",
   "execution_count": 21,
   "id": "a06d4cb6",
   "metadata": {},
   "outputs": [],
   "source": [
    "model.add(Flatten())"
   ]
  },
  {
   "cell_type": "markdown",
   "id": "1d3cb1e3",
   "metadata": {},
   "source": [
    "##### 4.5 Add the Dense Layer"
   ]
  },
  {
   "cell_type": "code",
   "execution_count": 22,
   "id": "2e93da40",
   "metadata": {},
   "outputs": [],
   "source": [
    "model.add(Dense(1024, activation='relu'))\n",
    "model.add(Dense(512, activation='relu'))\n",
    "# model.add(Dense(100, activation='relu'))"
   ]
  },
  {
   "cell_type": "code",
   "execution_count": 23,
   "id": "958fa5fb",
   "metadata": {},
   "outputs": [],
   "source": [
    "model.add(Dense(37, activation='softmax'))"
   ]
  },
  {
   "cell_type": "markdown",
   "id": "e510988a",
   "metadata": {},
   "source": [
    "##### 4.6 Compile the Model"
   ]
  },
  {
   "cell_type": "code",
   "execution_count": 24,
   "id": "abc660ed",
   "metadata": {},
   "outputs": [],
   "source": [
    "model.compile(loss='categorical_crossentropy', optimizer='adam', metrics=['accuracy'])"
   ]
  },
  {
   "cell_type": "code",
   "execution_count": 25,
   "id": "b69977c8",
   "metadata": {},
   "outputs": [
    {
     "name": "stdout",
     "output_type": "stream",
     "text": [
      "Model: \"sequential\"\n",
      "_________________________________________________________________\n",
      " Layer (type)                Output Shape              Param #   \n",
      "=================================================================\n",
      " conv2d (Conv2D)             (None, 48, 48, 32)        320       \n",
      "                                                                 \n",
      " max_pooling2d (MaxPooling2D  (None, 24, 24, 32)       0         \n",
      " )                                                               \n",
      "                                                                 \n",
      " dropout (Dropout)           (None, 24, 24, 32)        0         \n",
      "                                                                 \n",
      " conv2d_1 (Conv2D)           (None, 22, 22, 64)        18496     \n",
      "                                                                 \n",
      " max_pooling2d_1 (MaxPooling  (None, 11, 11, 64)       0         \n",
      " 2D)                                                             \n",
      "                                                                 \n",
      " dropout_1 (Dropout)         (None, 11, 11, 64)        0         \n",
      "                                                                 \n",
      " conv2d_2 (Conv2D)           (None, 9, 9, 128)         73856     \n",
      "                                                                 \n",
      " max_pooling2d_2 (MaxPooling  (None, 4, 4, 128)        0         \n",
      " 2D)                                                             \n",
      "                                                                 \n",
      " dropout_2 (Dropout)         (None, 4, 4, 128)         0         \n",
      "                                                                 \n",
      " conv2d_3 (Conv2D)           (None, 2, 2, 256)         295168    \n",
      "                                                                 \n",
      " max_pooling2d_3 (MaxPooling  (None, 1, 1, 256)        0         \n",
      " 2D)                                                             \n",
      "                                                                 \n",
      " dropout_3 (Dropout)         (None, 1, 1, 256)         0         \n",
      "                                                                 \n",
      " flatten (Flatten)           (None, 256)               0         \n",
      "                                                                 \n",
      " dense (Dense)               (None, 1024)              263168    \n",
      "                                                                 \n",
      " dense_1 (Dense)             (None, 512)               524800    \n",
      "                                                                 \n",
      " dense_2 (Dense)             (None, 37)                18981     \n",
      "                                                                 \n",
      "=================================================================\n",
      "Total params: 1,194,789\n",
      "Trainable params: 1,194,789\n",
      "Non-trainable params: 0\n",
      "_________________________________________________________________\n"
     ]
    }
   ],
   "source": [
    "model.summary()"
   ]
  },
  {
   "cell_type": "markdown",
   "id": "15b85165",
   "metadata": {},
   "source": [
    "##### 4.7 Fit the Model"
   ]
  },
  {
   "cell_type": "code",
   "execution_count": 26,
   "id": "047f42d5",
   "metadata": {},
   "outputs": [
    {
     "name": "stdout",
     "output_type": "stream",
     "text": [
      "Epoch 1/5\n",
      "148/148 [==============================] - 621s 4s/step - loss: 1.3820 - accuracy: 0.5761 - val_loss: 0.2260 - val_accuracy: 0.9277\n",
      "Epoch 2/5\n",
      "148/148 [==============================] - 409s 3s/step - loss: 0.2043 - accuracy: 0.9297 - val_loss: 0.0541 - val_accuracy: 0.9820\n",
      "Epoch 3/5\n",
      "148/148 [==============================] - 472s 3s/step - loss: 0.1160 - accuracy: 0.9595 - val_loss: 0.0354 - val_accuracy: 0.9903\n",
      "Epoch 4/5\n",
      "148/148 [==============================] - 389s 3s/step - loss: 0.0769 - accuracy: 0.9734 - val_loss: 0.0117 - val_accuracy: 0.9964\n",
      "Epoch 5/5\n",
      "148/148 [==============================] - 205s 1s/step - loss: 0.0564 - accuracy: 0.9802 - val_loss: 0.0077 - val_accuracy: 0.9984\n"
     ]
    }
   ],
   "source": [
    "epo=5\n",
    "history = model.fit(x_train, steps_per_epoch=len(x_train), epochs=epo, validation_data=x_test, validation_steps=len(x_test))\n",
    "# history = model.fit(x_train, batch_size = 596, verbose = 1, epochs=epo, validation_data=x_test)"
   ]
  },
  {
   "cell_type": "markdown",
   "id": "a04e07aa",
   "metadata": {},
   "source": [
    "##### 4.8 Save the Model"
   ]
  },
  {
   "cell_type": "code",
   "execution_count": 27,
   "id": "233c4faa",
   "metadata": {},
   "outputs": [],
   "source": [
    "model.save('aslpng1.h5')"
   ]
  },
  {
   "cell_type": "markdown",
   "id": "fc72b81f",
   "metadata": {},
   "source": [
    "#### 5.Test the Model\n",
    "##### 5.1 Load the Saved Model"
   ]
  },
  {
   "cell_type": "code",
   "execution_count": 28,
   "id": "1c91f2b2",
   "metadata": {},
   "outputs": [],
   "source": [
    "model=load_model('aslpng1.h5')"
   ]
  },
  {
   "cell_type": "markdown",
   "id": "e7e939f6",
   "metadata": {},
   "source": [
    "##### 5.2 Pre-Process it and Predict"
   ]
  },
  {
   "cell_type": "code",
   "execution_count": 29,
   "id": "d02382d3",
   "metadata": {},
   "outputs": [],
   "source": [
    "def detect(frame):\n",
    "    img=resize(frame,(50,50,1))\n",
    "    img=np.expand_dims(img,axis=0)\n",
    "    if(np.max(img)>1):\n",
    "        img=img/255.0\n",
    "    prediction=model.predict(img)\n",
    "    # print(frame)\n",
    "    print(frame.shape)\n",
    "    plt.imshow(cv2.cvtColor(frame, cv2.COLOR_BGR2RGB))\n",
    "    # print(prediction)\n",
    "    prediction=np.argmax(model.predict(img),axis=1) #model.predict_classes(img)\n",
    "    print(prediction)\n",
    "    # return prediction"
   ]
  },
  {
   "cell_type": "code",
   "execution_count": 30,
   "id": "b95d8160",
   "metadata": {},
   "outputs": [
    {
     "name": "stdout",
     "output_type": "stream",
     "text": [
      "1/1 [==============================] - 1s 1s/step\n",
      "(50, 50)\n",
      "1/1 [==============================] - 0s 32ms/step\n",
      "[2]\n"
     ]
    },
    {
     "data": {
      "image/png": "[encoded data removed]",
      "text/plain": [
       "<Figure size 640x480 with 1 Axes>"
      ]
     },
     "metadata": {},
     "output_type": "display_data"
    }
   ],
   "source": [
    "frame=cv2.imread(r'''C:\\Users\\manok\\Documents\\Sem_7\\HX5001-HX6001\\Project Development Phase\\Main Project 2\\Dataset\\Split\\train\\2\\16.jpg''', 0)\n",
    "data=detect(frame)"
   ]
  },
  {
   "cell_type": "code",
   "execution_count": 31,
   "id": "5cd60f7a",
   "metadata": {},
   "outputs": [
    {
     "name": "stdout",
     "output_type": "stream",
     "text": [
      "1/1 [==============================] - 0s 32ms/step\n",
      "(50, 50)\n",
      "1/1 [==============================] - 0s 32ms/step\n",
      "[2]\n"
     ]
    },
    {
     "data": {
      "image/png": "[encoded data removed]",
      "text/plain": [
       "<Figure size 640x480 with 1 Axes>"
      ]
     },
     "metadata": {},
     "output_type": "display_data"
    }
   ],
   "source": [
    "frame=cv2.imread(r'''C:\\Users\\manok\\Documents\\Sem_7\\HX5001-HX6001\\Project Development Phase\\Main Project 2\\Dataset\\Split\\test\\2\\28.jpg''', 0)\n",
    "data=detect(frame)"
   ]
  },
  {
   "cell_type": "code",
   "execution_count": 32,
   "id": "2b5792be",
   "metadata": {},
   "outputs": [
    {
     "name": "stdout",
     "output_type": "stream",
     "text": [
      "1/1 [==============================] - 0s 62ms/step\n",
      "(50, 50)\n",
      "1/1 [==============================] - 0s 32ms/step\n",
      "[36]\n"
     ]
    },
    {
     "data": {
      "image/png": "[encoded data removed]",
      "text/plain": [
       "<Figure size 640x480 with 1 Axes>"
      ]
     },
     "metadata": {},
     "output_type": "display_data"
    }
   ],
   "source": [
    "frame=cv2.imread(r'''C:\\Users\\manok\\Documents\\Sem_7\\HX5001-HX6001\\Project Development Phase\\Main Project 2\\Dataset\\Split\\train\\_\\30.jpg''', 0)\n",
    "data=detect(frame)"
   ]
  },
  {
   "cell_type": "code",
   "execution_count": 33,
   "id": "5adea7a4",
   "metadata": {
    "scrolled": true
   },
   "outputs": [
    {
     "name": "stdout",
     "output_type": "stream",
     "text": [
      "1/1 [==============================] - 0s 32ms/step\n",
      "(50, 50, 3)\n",
      "1/1 [==============================] - 0s 47ms/step\n",
      "[36]\n"
     ]
    },
    {
     "data": {
      "image/png": "[encoded data removed]",
      "text/plain": [
       "<Figure size 640x480 with 1 Axes>"
      ]
     },
     "metadata": {},
     "output_type": "display_data"
    }
   ],
   "source": [
    "frame=cv2.imread(r'''C:\\Users\\manok\\Documents\\Sem_7\\HX5001-HX6001\\Project Development Phase\\Main Project 2\\Dataset\\Split\\test\\_\\103.jpg''')\n",
    "data=detect(frame)"
   ]
  },
  {
   "cell_type": "code",
   "execution_count": 34,
   "id": "722df050",
   "metadata": {
    "scrolled": true
   },
   "outputs": [
    {
     "name": "stdout",
     "output_type": "stream",
     "text": [
      "1/1 [==============================] - 0s 31ms/step\n",
      "(50, 50, 3)\n",
      "1/1 [==============================] - 0s 31ms/step\n",
      "[16]\n"
     ]
    },
    {
     "data": {
      "image/png": "[encoded data removed]",
      "text/plain": [
       "<Figure size 640x480 with 1 Axes>"
      ]
     },
     "metadata": {},
     "output_type": "display_data"
    }
   ],
   "source": [
    "frame=cv2.imread(r'''C:\\Users\\manok\\Documents\\Sem_7\\HX5001-HX6001\\Project Development Phase\\Main Project 2\\Dataset\\Split\\train\\G\\1000.jpg''')\n",
    "data=detect(frame)"
   ]
  },
  {
   "cell_type": "code",
   "execution_count": 35,
   "id": "c3490634",
   "metadata": {
    "scrolled": true
   },
   "outputs": [
    {
     "name": "stdout",
     "output_type": "stream",
     "text": [
      "1/1 [==============================] - 0s 31ms/step\n",
      "(50, 50, 3)\n",
      "1/1 [==============================] - 0s 141ms/step\n",
      "[16]\n"
     ]
    },
    {
     "data": {
      "image/png": "[encoded data removed]",
      "text/plain": [
       "<Figure size 640x480 with 1 Axes>"
      ]
     },
     "metadata": {},
     "output_type": "display_data"
    }
   ],
   "source": [
    "frame=cv2.imread(r'''C:\\Users\\manok\\Documents\\Sem_7\\HX5001-HX6001\\Project Development Phase\\Main Project 2\\Dataset\\Split\\test\\G\\12.jpg''')\n",
    "data=detect(frame)"
   ]
  },
  {
   "cell_type": "code",
   "execution_count": 36,
   "id": "bc36659d",
   "metadata": {},
   "outputs": [
    {
     "name": "stdout",
     "output_type": "stream",
     "text": [
      "1/1 [==============================] - 0s 47ms/step\n",
      "(50, 50, 3)\n",
      "1/1 [==============================] - 0s 31ms/step\n",
      "[36]\n"
     ]
    },
    {
     "data": {
      "image/png": "[encoded data removed]",
      "text/plain": [
       "<Figure size 640x480 with 1 Axes>"
      ]
     },
     "metadata": {},
     "output_type": "display_data"
    }
   ],
   "source": [
    "frame=cv2.imread(r'''C:\\Users\\manok\\Documents\\Sem_7\\HX5001-HX6001\\Project Development Phase\\Main Project 2\\Dataset\\Split\\test\\_\\103.jpg''')\n",
    "data=detect(frame)"
   ]
  },
  {
   "cell_type": "code",
   "execution_count": 37,
   "id": "83ef2fdd",
   "metadata": {},
   "outputs": [
    {
     "name": "stdout",
     "output_type": "stream",
     "text": [
      "1/1 [==============================] - 0s 72ms/step\n",
      "(50, 50, 3)\n",
      "1/1 [==============================] - 0s 44ms/step\n",
      "[10]\n"
     ]
    },
    {
     "data": {
      "image/png": "[encoded data removed]",
      "text/plain": [
       "<Figure size 640x480 with 1 Axes>"
      ]
     },
     "metadata": {},
     "output_type": "display_data"
    }
   ],
   "source": [
    "frame=cv2.imread(r'''C:\\Users\\manok\\Documents\\Sem_7\\HX5001-HX6001\\Project Development Phase\\Main Project 2\\Dataset\\Split\\test\\A\\103.jpg''')\n",
    "data=detect(frame)"
   ]
  },
  {
   "cell_type": "code",
   "execution_count": 38,
   "id": "7eed183a",
   "metadata": {},
   "outputs": [
    {
     "name": "stdout",
     "output_type": "stream",
     "text": [
      "1/1 [==============================] - 0s 31ms/step\n",
      "(50, 50, 3)\n",
      "1/1 [==============================] - 0s 16ms/step\n",
      "[8]\n"
     ]
    },
    {
     "data": {
      "image/png": "[encoded data removed]",
      "text/plain": [
       "<Figure size 640x480 with 1 Axes>"
      ]
     },
     "metadata": {},
     "output_type": "display_data"
    }
   ],
   "source": [
    "frame=cv2.imread(r'''C:\\Users\\manok\\Documents\\Sem_7\\HX5001-HX6001\\Project Development Phase\\Main Project 2\\Dataset\\Split\\test\\8\\103.jpg''')\n",
    "data=detect(frame)"
   ]
  },
  {
   "cell_type": "code",
   "execution_count": 39,
   "id": "c4c7b66d",
   "metadata": {},
   "outputs": [
    {
     "name": "stdout",
     "output_type": "stream",
     "text": [
      "1/1 [==============================] - 0s 47ms/step\n",
      "(50, 50, 3)\n",
      "1/1 [==============================] - 0s 16ms/step\n",
      "[8]\n"
     ]
    },
    {
     "data": {
      "image/png": "[encoded data removed]",
      "text/plain": [
       "<Figure size 640x480 with 1 Axes>"
      ]
     },
     "metadata": {},
     "output_type": "display_data"
    }
   ],
   "source": [
    "frame=cv2.imread(r'''C:\\Users\\manok\\Documents\\Sem_7\\HX5001-HX6001\\Project Development Phase\\Main Project 2\\Dataset\\Gesture Image Pre-Processed Data\\8\\103.jpg''')\n",
    "data=detect(frame)"
   ]
  },
  {
   "cell_type": "code",
   "execution_count": 40,
   "id": "8b7fd8ba",
   "metadata": {},
   "outputs": [
    {
     "name": "stdout",
     "output_type": "stream",
     "text": [
      "1/1 [==============================] - 0s 24ms/step\n",
      "(50, 50, 3)\n",
      "1/1 [==============================] - 0s 31ms/step\n",
      "[19]\n"
     ]
    },
    {
     "data": {
      "image/png": "[encoded data removed]",
      "text/plain": [
       "<Figure size 640x480 with 1 Axes>"
      ]
     },
     "metadata": {},
     "output_type": "display_data"
    }
   ],
   "source": [
    "frame=cv2.imread(r'''C:\\Users\\manok\\Documents\\Sem_7\\HX5001-HX6001\\Project Development Phase\\Main Project 2\\Dataset\\Gesture Image Pre-Processed Data\\J\\803.jpg''')\n",
    "data=detect(frame)"
   ]
  },
  {
   "cell_type": "code",
   "execution_count": 41,
   "id": "f45806e8",
   "metadata": {},
   "outputs": [
    {
     "name": "stdout",
     "output_type": "stream",
     "text": [
      "1/1 [==============================] - 0s 47ms/step\n",
      "(50, 50, 3)\n",
      "1/1 [==============================] - 0s 38ms/step\n",
      "[25]\n"
     ]
    },
    {
     "data": {
      "image/png": "[encoded data removed]",
      "text/plain": [
       "<Figure size 640x480 with 1 Axes>"
      ]
     },
     "metadata": {},
     "output_type": "display_data"
    }
   ],
   "source": [
    "frame=cv2.imread(r'''C:\\Users\\manok\\Documents\\Sem_7\\HX5001-HX6001\\Project Development Phase\\Main Project 2\\Dataset\\Gesture Image Pre-Processed Data\\P\\603.jpg''')\n",
    "data=detect(frame)"
   ]
  },
  {
   "cell_type": "code",
   "execution_count": 42,
   "id": "7a85a704",
   "metadata": {},
   "outputs": [
    {
     "name": "stdout",
     "output_type": "stream",
     "text": [
      "1/1 [==============================] - 0s 31ms/step\n",
      "(50, 50, 3)\n",
      "1/1 [==============================] - 0s 31ms/step\n",
      "[4]\n"
     ]
    },
    {
     "data": {
      "image/png": "[encoded data removed]",
      "text/plain": [
       "<Figure size 640x480 with 1 Axes>"
      ]
     },
     "metadata": {},
     "output_type": "display_data"
    }
   ],
   "source": [
    "frame=cv2.imread(r'''C:\\Users\\manok\\Documents\\Sem_7\\HX5001-HX6001\\Project Development Phase\\Main Project 2\\Dataset\\Gesture Image Pre-Processed Data\\4\\1099.jpg''')\n",
    "data=detect(frame)"
   ]
  },
  {
   "cell_type": "code",
   "execution_count": 43,
   "id": "af7df6b7",
   "metadata": {},
   "outputs": [
    {
     "name": "stdout",
     "output_type": "stream",
     "text": [
      "1/1 [==============================] - 0s 32ms/step\n",
      "(50, 50, 3)\n",
      "1/1 [==============================] - 0s 32ms/step\n",
      "[32]\n"
     ]
    },
    {
     "data": {
      "image/png": "[encoded data removed]",
      "text/plain": [
       "<Figure size 640x480 with 1 Axes>"
      ]
     },
     "metadata": {},
     "output_type": "display_data"
    }
   ],
   "source": [
    "frame=cv2.imread(r'''C:\\Users\\manok\\Documents\\Sem_7\\HX5001-HX6001\\Project Development Phase\\Main Project 2\\Dataset\\Gesture Image Pre-Processed Data\\W\\1448.jpg''')\n",
    "data=detect(frame)"
   ]
  }
 ],
 "metadata": {
  "kernelspec": {
   "display_name": "base",
   "language": "python",
   "name": "python3"
  },
  "language_info": {
   "codemirror_mode": {
    "name": "ipython",
    "version": 3
   },
   "file_extension": ".py",
   "mimetype": "text/x-python",
   "name": "python",
   "nbconvert_exporter": "python",
   "pygments_lexer": "ipython3",
   "version": "3.9.12 (main, Apr  4 2022, 05:22:27) [MSC v.1916 64 bit (AMD64)]"
  },
  "vscode": {
   "interpreter": {
    "hash": "ad2bdc8ecc057115af97d19610ffacc2b4e99fae6737bb82f5d7fb13d2f2c186"
   }
  }
 },
 "nbformat": 4,
 "nbformat_minor": 5
}
